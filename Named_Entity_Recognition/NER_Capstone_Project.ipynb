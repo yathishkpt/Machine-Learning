{
 "cells": [
  {
   "cell_type": "markdown",
   "metadata": {},
   "source": [
    "# Named Entity Recognition"
   ]
  },
  {
   "cell_type": "markdown",
   "metadata": {},
   "source": [
    "## Getting Started\n",
    "\n",
    "In this project, the goal is to creat a good machine learning model to classify named entities in the text. This is an information extraction project where we try to extract the following classes: \n",
    "-  geo = Geographical Entity\n",
    "-  org = Organization\n",
    "-  per = Person\n",
    "-  gpe = Geopolitical Entity\n",
    "-  tim = Time Indicator\n",
    "-  art = Artifact\n",
    "-  eve = Event\n",
    "-  nat = Natural Phenomenon\n",
    "\n",
    "The given dataset is an annotated corpus from GMB (Groningen Meaning Bank)"
   ]
  },
  {
   "cell_type": "markdown",
   "metadata": {},
   "source": [
    "## Exploring the Data\n",
    "\n",
    "The code cell below loads necessary Python libraries and load the annotated corpus data. Note that the last column from this dataset, `'Tag'`, will be our target label (the category to which an individual word belongs to). The first column is an index and can be ignored. Rest of the columns correspond to the `'sentence'`, `'Word'`, and the Part-of-speech `'POS'` notation respectively - These are the features about each individual word."
   ]
  },
  {
   "cell_type": "code",
   "execution_count": 35,
   "metadata": {
    "scrolled": true
   },
   "outputs": [
    {
     "data": {
      "text/html": [
       "<div>\n",
       "<style>\n",
       "    .dataframe thead tr:only-child th {\n",
       "        text-align: right;\n",
       "    }\n",
       "\n",
       "    .dataframe thead th {\n",
       "        text-align: left;\n",
       "    }\n",
       "\n",
       "    .dataframe tbody tr th {\n",
       "        vertical-align: top;\n",
       "    }\n",
       "</style>\n",
       "<table border=\"1\" class=\"dataframe\">\n",
       "  <thead>\n",
       "    <tr style=\"text-align: right;\">\n",
       "      <th></th>\n",
       "      <th>Unnamed: 0</th>\n",
       "      <th>Sentence #</th>\n",
       "      <th>Word</th>\n",
       "      <th>POS</th>\n",
       "      <th>Tag</th>\n",
       "    </tr>\n",
       "  </thead>\n",
       "  <tbody>\n",
       "    <tr>\n",
       "      <th>0</th>\n",
       "      <td>0</td>\n",
       "      <td>1.0</td>\n",
       "      <td>Thousands</td>\n",
       "      <td>NNS</td>\n",
       "      <td>O</td>\n",
       "    </tr>\n",
       "    <tr>\n",
       "      <th>1</th>\n",
       "      <td>1</td>\n",
       "      <td>1.0</td>\n",
       "      <td>of</td>\n",
       "      <td>IN</td>\n",
       "      <td>O</td>\n",
       "    </tr>\n",
       "    <tr>\n",
       "      <th>2</th>\n",
       "      <td>2</td>\n",
       "      <td>1.0</td>\n",
       "      <td>demonstrators</td>\n",
       "      <td>NNS</td>\n",
       "      <td>O</td>\n",
       "    </tr>\n",
       "    <tr>\n",
       "      <th>3</th>\n",
       "      <td>3</td>\n",
       "      <td>1.0</td>\n",
       "      <td>have</td>\n",
       "      <td>VBP</td>\n",
       "      <td>O</td>\n",
       "    </tr>\n",
       "    <tr>\n",
       "      <th>4</th>\n",
       "      <td>4</td>\n",
       "      <td>1.0</td>\n",
       "      <td>marched</td>\n",
       "      <td>VBN</td>\n",
       "      <td>O</td>\n",
       "    </tr>\n",
       "  </tbody>\n",
       "</table>\n",
       "</div>"
      ],
      "text/plain": [
       "   Unnamed: 0  Sentence #           Word  POS Tag\n",
       "0           0         1.0      Thousands  NNS   O\n",
       "1           1         1.0             of   IN   O\n",
       "2           2         1.0  demonstrators  NNS   O\n",
       "3           3         1.0           have  VBP   O\n",
       "4           4         1.0        marched  VBN   O"
      ]
     },
     "metadata": {},
     "output_type": "display_data"
    }
   ],
   "source": [
    "import pandas as pd\n",
    "import numpy as np\n",
    "import matplotlib.pyplot as plt\n",
    "import functions as fn\n",
    "\n",
    "from IPython.display import display  # Allows the use of display() for DataFrames\n",
    "\n",
    "# Pretty display for notebooks\n",
    "%matplotlib inline\n",
    "\n",
    "data = pd.read_table('dataset_05-22-2018.txt')\n",
    "\n",
    "# Set a random seed for reproducibility\n",
    "np.random.seed(0)\n",
    "\n",
    "display(data.head(5))"
   ]
  },
  {
   "cell_type": "markdown",
   "metadata": {},
   "source": [
    "Before we move onto the models, first step is to look for missing values. The following code cell calculates the number of missing values in each colum. In this dataset, every feature and label are available and so there is no need to worry about missing values"
   ]
  },
  {
   "cell_type": "code",
   "execution_count": 36,
   "metadata": {
    "scrolled": true
   },
   "outputs": [
    {
     "data": {
      "text/plain": [
       "Unnamed: 0    0\n",
       "Sentence #    0\n",
       "Word          0\n",
       "POS           0\n",
       "Tag           0\n",
       "dtype: int64"
      ]
     },
     "execution_count": 36,
     "metadata": {},
     "output_type": "execute_result"
    }
   ],
   "source": [
    "missing_values_count = data.isnull().sum()\n",
    "missing_values_count[0:]"
   ]
  },
  {
   "cell_type": "code",
   "execution_count": 37,
   "metadata": {},
   "outputs": [
    {
     "name": "stdout",
     "output_type": "stream",
     "text": [
      "Total number of sentences: 2999\n",
      "Total number of words: 66161\n"
     ]
    }
   ],
   "source": [
    "n_words = data['Word'].count()\n",
    "n_sentences = data['Sentence #'].nunique()\n",
    "\n",
    "print(\"Total number of sentences: {}\".format(n_sentences))\n",
    "print(\"Total number of words: {}\".format(n_words))"
   ]
  },
  {
   "cell_type": "code",
   "execution_count": 38,
   "metadata": {},
   "outputs": [
    {
     "data": {
      "text/html": [
       "<div>\n",
       "<style>\n",
       "    .dataframe thead tr:only-child th {\n",
       "        text-align: right;\n",
       "    }\n",
       "\n",
       "    .dataframe thead th {\n",
       "        text-align: left;\n",
       "    }\n",
       "\n",
       "    .dataframe tbody tr th {\n",
       "        vertical-align: top;\n",
       "    }\n",
       "</style>\n",
       "<table border=\"1\" class=\"dataframe\">\n",
       "  <thead>\n",
       "    <tr style=\"text-align: right;\">\n",
       "      <th></th>\n",
       "      <th>Word</th>\n",
       "      <th>POS</th>\n",
       "      <th>Tag</th>\n",
       "    </tr>\n",
       "  </thead>\n",
       "  <tbody>\n",
       "    <tr>\n",
       "      <th>count</th>\n",
       "      <td>66161</td>\n",
       "      <td>66161</td>\n",
       "      <td>66161</td>\n",
       "    </tr>\n",
       "    <tr>\n",
       "      <th>unique</th>\n",
       "      <td>8766</td>\n",
       "      <td>41</td>\n",
       "      <td>17</td>\n",
       "    </tr>\n",
       "    <tr>\n",
       "      <th>top</th>\n",
       "      <td>the</td>\n",
       "      <td>NN</td>\n",
       "      <td>O</td>\n",
       "    </tr>\n",
       "    <tr>\n",
       "      <th>freq</th>\n",
       "      <td>3292</td>\n",
       "      <td>9307</td>\n",
       "      <td>56217</td>\n",
       "    </tr>\n",
       "  </tbody>\n",
       "</table>\n",
       "</div>"
      ],
      "text/plain": [
       "         Word    POS    Tag\n",
       "count   66161  66161  66161\n",
       "unique   8766     41     17\n",
       "top       the     NN      O\n",
       "freq     3292   9307  56217"
      ]
     },
     "execution_count": 38,
     "metadata": {},
     "output_type": "execute_result"
    }
   ],
   "source": [
    "data.describe(include=['O'])"
   ]
  },
  {
   "cell_type": "markdown",
   "metadata": {},
   "source": [
    "The dataset has 8766 unique words & 9307 nouns. "
   ]
  },
  {
   "cell_type": "code",
   "execution_count": 39,
   "metadata": {
    "scrolled": false
   },
   "outputs": [
    {
     "data": {
      "text/plain": [
       "O        0.849700\n",
       "B-geo    0.031287\n",
       "B-org    0.018697\n",
       "I-per    0.018651\n",
       "B-gpe    0.018591\n",
       "B-tim    0.017533\n",
       "B-per    0.016732\n",
       "I-org    0.013996\n",
       "I-geo    0.006257\n",
       "I-tim    0.005048\n",
       "B-art    0.000801\n",
       "B-eve    0.000680\n",
       "I-eve    0.000559\n",
       "I-art    0.000514\n",
       "I-gpe    0.000514\n",
       "B-nat    0.000302\n",
       "I-nat    0.000136\n",
       "Name: Tag, dtype: float64"
      ]
     },
     "execution_count": 39,
     "metadata": {},
     "output_type": "execute_result"
    }
   ],
   "source": [
    "data['Tag'].value_counts(normalize=True)"
   ]
  },
  {
   "cell_type": "markdown",
   "metadata": {},
   "source": [
    "85% of the words does not come under 'Named entities'. This is basically a classification problem and since there is lot of skewness in the data, it is not right to consider \"Prediction Accuracy\" as a validation metric. Simply predicting every word as 'O' would give an accuracy of 85% but it's of no real use. We will look at F1-score as a validation metric (this is the harmonic mean of Precision & Recall).\n",
    "\n",
    "-  Precision answers the question: \"What proportion of positive identifications are actually correct?\" [higher the False-Positives lower the Precision]\n",
    "\n",
    "It is a ratio of true positives(words classified as entities, and which are actually entitites) to all positives(all words classified as entities, irrespective of whether that was the correct classificatio), in other words it is the ratio of\n",
    "\n",
    "`[True Positives/(True Positives + False Positives)]`\n",
    "\n",
    "\n",
    "-  Recall answers the question: \"What proportion of actual positives are identified correctly?\" [higher the False-Negatives, lower the Recall]\n",
    "\n",
    "It is a ratio of true positives(words classified as entities, and which are actually entities) to all the words that were actually entities, in other words it is the ratio of\n",
    "\n",
    "`[True Positives/(True Positives + False Negatives)]`\n"
   ]
  },
  {
   "cell_type": "markdown",
   "metadata": {},
   "source": [
    "## Baseline Model\n",
    "Before we proceed with feature generation and machine learning algorithms, we need a baseline model. A simplest model would be a 'memorization algorithm'. i.e. just remember the most common named entity for every word and predict that. Incase, we don't know that word, predict 'O'."
   ]
  },
  {
   "cell_type": "code",
   "execution_count": 40,
   "metadata": {
    "collapsed": true
   },
   "outputs": [],
   "source": [
    "from sklearn.base import BaseEstimator, TransformerMixin\n",
    "\n",
    "class MemoryTagger(BaseEstimator, TransformerMixin):\n",
    "    \n",
    "    def fit(self, X, y):\n",
    "        '''\n",
    "        Expects a list of words as X and a list of tags as y.\n",
    "        '''\n",
    "        voc = {}\n",
    "        self.tags = []\n",
    "        for x, t in zip(X, y):\n",
    "            if t not in self.tags:\n",
    "                self.tags.append(t)\n",
    "            if x in voc:\n",
    "                if t in voc[x]:\n",
    "                    voc[x][t] += 1\n",
    "                else:\n",
    "                    voc[x][t] = 1\n",
    "            else:\n",
    "                voc[x] = {t: 1}\n",
    "        self.memory = {}\n",
    "        for k, d in voc.items():\n",
    "            self.memory[k] = max(d, key=d.get)\n",
    "    \n",
    "    def predict(self, X, y=None):\n",
    "        '''\n",
    "        Predict the the tag from memory. If word is unknown, predict 'O'.\n",
    "        '''\n",
    "        return [self.memory.get(x, 'O') for x in X]"
   ]
  },
  {
   "cell_type": "markdown",
   "metadata": {},
   "source": [
    "This is a multi-class classification problem and hence it is good to look at the precision and recall for each class. This is achieved using `classification_report`. Also, report is printed and the over all F1-score is calculated excluding the non-entity class `O`."
   ]
  },
  {
   "cell_type": "code",
   "execution_count": 41,
   "metadata": {
    "scrolled": false
   },
   "outputs": [
    {
     "name": "stdout",
     "output_type": "stream",
     "text": [
      "             precision    recall  f1-score   support\n",
      "\n",
      "      I-art       0.00      0.00      0.00        34\n",
      "      B-gpe       0.86      0.71      0.77      1230\n",
      "      B-art       0.00      0.00      0.00        53\n",
      "      I-per       0.73      0.42      0.53      1234\n",
      "      I-eve       0.42      0.30      0.35        37\n",
      "      B-org       0.59      0.41      0.49      1237\n",
      "      B-eve       0.18      0.09      0.12        45\n",
      "      B-geo       0.69      0.70      0.69      2070\n",
      "      I-org       0.66      0.46      0.54       926\n",
      "      I-geo       0.56      0.46      0.51       414\n",
      "      B-nat       0.44      0.20      0.28        20\n",
      "      I-tim       0.36      0.19      0.25       334\n",
      "      I-gpe       0.50      0.09      0.15        34\n",
      "      B-tim       0.87      0.75      0.81      1160\n",
      "      I-nat       0.80      0.44      0.57         9\n",
      "      B-per       0.75      0.53      0.62      1107\n",
      "\n",
      "avg / total       0.70      0.55      0.61      9944\n",
      "\n"
     ]
    }
   ],
   "source": [
    "from sklearn.model_selection import cross_val_predict\n",
    "from sklearn.metrics import classification_report\n",
    "\n",
    "words = data['Word'].values.tolist()\n",
    "tags = data['Tag'].values.tolist()\n",
    "\n",
    "labels = ['I-art', 'B-gpe', 'B-art', 'I-per', 'I-eve', \\\n",
    "          'B-org', 'B-eve', 'B-geo', 'I-org', 'I-geo', \\\n",
    "          'B-nat', 'I-tim', 'I-gpe', 'B-tim', 'I-nat', 'B-per']\n",
    "\n",
    "pred = cross_val_predict(estimator=fn.MemoryTagger(), X=words, y=tags, cv=10)\n",
    "base_model = classification_report(y_pred = pred, y_true = tags, labels=labels)\n",
    "print(base_model)"
   ]
  },
  {
   "cell_type": "markdown",
   "metadata": {},
   "source": [
    "For the memorization model, `'Precision'` for named entities is good but `'Recall'` is low implying relatively large amount of 'False Negatives'. This makes sense as our model inherently is designed that way - we assign 'O', if there is no memory of that word which is a 'False Negative'. This acts as our baseline model and now we will perform feature engineering apply machine learning algorithms to get better results."
   ]
  },
  {
   "cell_type": "markdown",
   "metadata": {},
   "source": [
    "## Feature Generation\n",
    "\n",
    "In NLP, some of the important features are:\n",
    "1. Words\n",
    "     -  Current word (essentially like a learned dictionary)\n",
    "     -  previous/previous-previous/next/next-next words (helps in understanding the context)\n",
    "2. Linguistic classification\n",
    "     -  Part-of-speech tags (POS)\n",
    "3. Word substrings (particularly useful with scientific/biological terms)\n",
    "4. Word shapes\n",
    "     -  length, capitalization, titlecase, numerals etc.,\n",
    "5. lemma - root stem, i.e often times the word you end up with, is not something you look up in a dictionary, but you can look up a lemma. Prev/next lemma also gives information about the context\n",
    "\n",
    "Some of the above mentioned features are extracted for the words in the dataset in next few code cells.\n"
   ]
  },
  {
   "cell_type": "code",
   "execution_count": 42,
   "metadata": {
    "collapsed": true
   },
   "outputs": [],
   "source": [
    "def get_wordnet_pos(treebank_tag):\n",
    "    \"\"\"\n",
    "    return WORDNET POS compliance to WORDENT lemmatization (a,n,r,v) \n",
    "    \"\"\"\n",
    "    if treebank_tag.startswith('J'):\n",
    "        return wordnet.ADJ\n",
    "    elif treebank_tag.startswith('V'):\n",
    "        return wordnet.VERB\n",
    "    elif treebank_tag.startswith('N'):\n",
    "        return wordnet.NOUN\n",
    "    elif treebank_tag.startswith('R'):\n",
    "        return wordnet.ADV\n",
    "    else:\n",
    "        # As default pos in lemmatization is Noun\n",
    "        return wordnet.NOUN"
   ]
  },
  {
   "cell_type": "code",
   "execution_count": 43,
   "metadata": {
    "collapsed": true,
    "scrolled": false
   },
   "outputs": [],
   "source": [
    "import nltk\n",
    "from nltk.stem import WordNetLemmatizer\n",
    "from nltk.corpus import wordnet\n",
    "\n",
    "lemmatizer = WordNetLemmatizer()\n",
    "pos = data['POS'].values.tolist()\n",
    "lemma = [lemmatizer.lemmatize(words[i].decode('8859'),get_wordnet_pos(pos[i])) for i in range(len(words))]"
   ]
  },
  {
   "cell_type": "markdown",
   "metadata": {},
   "source": [
    "The idea of Natural Language Processing is to do some form of analysis, or processing, where the machine can understand, at least to some level, what the text means, says, or implies. One of the major forms of pre-processing is filtering out useless data. Often times some words carry more meaning than the others; we can also see that some words are plain useless and we use them as filler words, ex: of, the, a, an etc., In natural language processing, useless words (data), are referred to as stop words. In the nltk.corpus, there are a set of words that are defined as 'stopwords'. All of these words are non-objects and hence I feel this can be a useful feature. Nearly 30% of the total data set are 'stopwords'. "
   ]
  },
  {
   "cell_type": "code",
   "execution_count": 44,
   "metadata": {
    "collapsed": true
   },
   "outputs": [],
   "source": [
    "from nltk.corpus import stopwords\n",
    "\n",
    "stop_words = set(stopwords.words('english'))\n",
    "\n",
    "stop_word = [bool(True) if i in stop_words else bool(False) for i in words]"
   ]
  },
  {
   "cell_type": "code",
   "execution_count": 45,
   "metadata": {
    "collapsed": true
   },
   "outputs": [],
   "source": [
    "data['stop_word'] = pd.Series(stop_word)\n",
    "data['lemma'] = pd.Series(lemma)"
   ]
  },
  {
   "cell_type": "code",
   "execution_count": 46,
   "metadata": {},
   "outputs": [
    {
     "data": {
      "text/html": [
       "<div>\n",
       "<style>\n",
       "    .dataframe thead tr:only-child th {\n",
       "        text-align: right;\n",
       "    }\n",
       "\n",
       "    .dataframe thead th {\n",
       "        text-align: left;\n",
       "    }\n",
       "\n",
       "    .dataframe tbody tr th {\n",
       "        vertical-align: top;\n",
       "    }\n",
       "</style>\n",
       "<table border=\"1\" class=\"dataframe\">\n",
       "  <thead>\n",
       "    <tr style=\"text-align: right;\">\n",
       "      <th></th>\n",
       "      <th>Unnamed: 0</th>\n",
       "      <th>Sentence #</th>\n",
       "      <th>Word</th>\n",
       "      <th>POS</th>\n",
       "      <th>Tag</th>\n",
       "      <th>stop_word</th>\n",
       "      <th>lemma</th>\n",
       "    </tr>\n",
       "  </thead>\n",
       "  <tbody>\n",
       "    <tr>\n",
       "      <th>0</th>\n",
       "      <td>0</td>\n",
       "      <td>1.0</td>\n",
       "      <td>Thousands</td>\n",
       "      <td>NNS</td>\n",
       "      <td>O</td>\n",
       "      <td>False</td>\n",
       "      <td>Thousands</td>\n",
       "    </tr>\n",
       "    <tr>\n",
       "      <th>1</th>\n",
       "      <td>1</td>\n",
       "      <td>1.0</td>\n",
       "      <td>of</td>\n",
       "      <td>IN</td>\n",
       "      <td>O</td>\n",
       "      <td>True</td>\n",
       "      <td>of</td>\n",
       "    </tr>\n",
       "    <tr>\n",
       "      <th>2</th>\n",
       "      <td>2</td>\n",
       "      <td>1.0</td>\n",
       "      <td>demonstrators</td>\n",
       "      <td>NNS</td>\n",
       "      <td>O</td>\n",
       "      <td>False</td>\n",
       "      <td>demonstrator</td>\n",
       "    </tr>\n",
       "    <tr>\n",
       "      <th>3</th>\n",
       "      <td>3</td>\n",
       "      <td>1.0</td>\n",
       "      <td>have</td>\n",
       "      <td>VBP</td>\n",
       "      <td>O</td>\n",
       "      <td>True</td>\n",
       "      <td>have</td>\n",
       "    </tr>\n",
       "    <tr>\n",
       "      <th>4</th>\n",
       "      <td>4</td>\n",
       "      <td>1.0</td>\n",
       "      <td>marched</td>\n",
       "      <td>VBN</td>\n",
       "      <td>O</td>\n",
       "      <td>False</td>\n",
       "      <td>march</td>\n",
       "    </tr>\n",
       "  </tbody>\n",
       "</table>\n",
       "</div>"
      ],
      "text/plain": [
       "   Unnamed: 0  Sentence #           Word  POS Tag  stop_word         lemma\n",
       "0           0         1.0      Thousands  NNS   O      False     Thousands\n",
       "1           1         1.0             of   IN   O       True            of\n",
       "2           2         1.0  demonstrators  NNS   O      False  demonstrator\n",
       "3           3         1.0           have  VBP   O       True          have\n",
       "4           4         1.0        marched  VBN   O      False         march"
      ]
     },
     "execution_count": 46,
     "metadata": {},
     "output_type": "execute_result"
    }
   ],
   "source": [
    "data.head(5)"
   ]
  },
  {
   "cell_type": "markdown",
   "metadata": {},
   "source": [
    "Here, the data is given in terms of annotated words. Using words alone while splitting into test/train sets will result in data bleeding. To avoid this, first we need to convert words into sentences. This is implemented using a class `SentenceGetter` in the next code cell."
   ]
  },
  {
   "cell_type": "code",
   "execution_count": 47,
   "metadata": {
    "collapsed": true
   },
   "outputs": [],
   "source": [
    "class SentenceGetter(object):\n",
    "    \n",
    "    def __init__(self, data):\n",
    "        self.n_sent = 1\n",
    "        self.data = data\n",
    "        self.empty = False\n",
    "        agg_func = lambda s: [(w, p, k, l, t) for w, p, k, l, t in zip(s[\"Word\"].values.tolist(),\n",
    "                                                                       s[\"POS\"].values.tolist(),\n",
    "                                                                       s[\"lemma\"].values.tolist(),\n",
    "                                                                       s[\"stop_word\"].values.tolist(),\n",
    "                                                                       s[\"Tag\"].values.tolist())]\n",
    "        self.grouped = self.data.groupby(\"Sentence #\").apply(agg_func)\n",
    "        self.sentences = [s for s in self.grouped]\n",
    "    \n",
    "    def get_next(self):\n",
    "        try:\n",
    "            s = self.grouped[\"Sentence: {}\".format(self.n_sent)]\n",
    "            self.n_sent += 1\n",
    "            return s\n",
    "        except:\n",
    "            return None"
   ]
  },
  {
   "cell_type": "code",
   "execution_count": 48,
   "metadata": {
    "collapsed": true,
    "scrolled": false
   },
   "outputs": [],
   "source": [
    "getter = SentenceGetter(data)\n",
    "sentences = getter.sentences"
   ]
  },
  {
   "cell_type": "code",
   "execution_count": 49,
   "metadata": {},
   "outputs": [
    {
     "name": "stdout",
     "output_type": "stream",
     "text": [
      "[('Thousands', 'NNS', u'Thousands', False, 'O'), ('of', 'IN', u'of', True, 'O'), ('demonstrators', 'NNS', u'demonstrator', False, 'O'), ('have', 'VBP', u'have', True, 'O'), ('marched', 'VBN', u'march', False, 'O'), ('through', 'IN', u'through', True, 'O'), ('London', 'NNP', u'London', False, 'B-geo'), ('to', 'TO', u'to', True, 'O'), ('protest', 'VB', u'protest', False, 'O'), ('the', 'DT', u'the', True, 'O'), ('war', 'NN', u'war', False, 'O'), ('in', 'IN', u'in', True, 'O'), ('Iraq', 'NNP', u'Iraq', False, 'B-geo'), ('and', 'CC', u'and', True, 'O'), ('demand', 'VB', u'demand', False, 'O'), ('the', 'DT', u'the', True, 'O'), ('withdrawal', 'NN', u'withdrawal', False, 'O'), ('of', 'IN', u'of', True, 'O'), ('British', 'JJ', u'British', False, 'B-gpe'), ('troops', 'NNS', u'troop', False, 'O'), ('from', 'IN', u'from', True, 'O'), ('that', 'DT', u'that', True, 'O'), ('country', 'NN', u'country', False, 'O'), ('.', '.', u'.', False, 'O')]\n"
     ]
    }
   ],
   "source": [
    "print(sentences[0])"
   ]
  },
  {
   "cell_type": "markdown",
   "metadata": {},
   "source": [
    "Different features, as mentioned earlier, corresponding to each word are extracted using the functions in the following code cell. "
   ]
  },
  {
   "cell_type": "code",
   "execution_count": 50,
   "metadata": {
    "collapsed": true
   },
   "outputs": [],
   "source": [
    "def word2features(data, i):\n",
    "    \n",
    "    ''' Expects a sentence (as printed above) and the index for the word\n",
    "    as input and returns the features corresponding to that word as a dict'''\n",
    "    \n",
    "    Word = data[i][0]\n",
    "    POS = data[i][1]\n",
    "    lemma = data[i][2]\n",
    "    stop_word = data[i][3]\n",
    "    tag = data[i][4]\n",
    "    features = {\n",
    "        'Word': Word,\n",
    "        'POS': POS,\n",
    "        'lemma': lemma,\n",
    "        'stop_word': stop_word,\n",
    "        'tag': tag,\n",
    "        'lowercase': Word.islower(),\n",
    "        'uppercase': Word.isupper(),\n",
    "        'titlecase': Word.istitle(),\n",
    "        'digit': Word.isdigit(),\n",
    "    }\n",
    "    if i == 1:\n",
    "        prev_word = data[i-1][0]\n",
    "        prev_pos = data[i-1][1]\n",
    "        prev_lemma = data[i-1][2]\n",
    "        features.update({\n",
    "            'prev_word': prev_word,\n",
    "            'prev_pos': prev_pos,\n",
    "            'prev_lemma': prev_lemma,\n",
    "            'prev_prev_word': '__Start2__',\n",
    "            'prev_prev_pos': '__Start2__',\n",
    "            'prev_prev_lemma': '__Start2__',\n",
    "            'lowercase_prev': prev_word.islower(),\n",
    "            'titlecase_prev': prev_word.istitle(),\n",
    "            'uppercase_prev': prev_word.isupper(),\n",
    "            'digit_prev': prev_word.isdigit(),\n",
    "        })\n",
    "    elif i > 1:\n",
    "        prev_word = data[i-1][0]\n",
    "        \n",
    "        features.update({\n",
    "            'prev_word': prev_word,\n",
    "            'prev_pos': data[i-1][1],\n",
    "            'prev_lemma': data[i-1][2],\n",
    "            'prev_prev_word': data[i-2][0],\n",
    "            'prev_prev_pos': data[i-2][1],\n",
    "            'prev_prev_lemma':data[i-2][2],\n",
    "            'titlecase_prev': prev_word.istitle(),\n",
    "            'lowercase_prev': prev_word.islower(),\n",
    "            'uppercase_prev': prev_word.isupper(),\n",
    "            'digit_prev': prev_word.isdigit(),\n",
    "        })\n",
    "\n",
    "    elif i == 0:\n",
    "        \n",
    "        features.update({\n",
    "            'prev_word': '__Start1__',\n",
    "            'prev_pos': '__Start1__',\n",
    "            'prev_lemma': '__Start1__',\n",
    "            'prev_prev_word': '__Start1__',\n",
    "            'prev_prev_pos': '__Start1__',\n",
    "            'prev_prev_lemma': '__Start1__',\n",
    "            'lowercase_prev': '__Start1__',\n",
    "            'titlecase_prev': '__Start1__',\n",
    "            'uppercase_prev': '__Start1__',\n",
    "            'digit_prev': '__Start1__',\n",
    "        })\n",
    "\n",
    "\n",
    "    if i < len(data)-2:\n",
    "        next_word = data[i+1][0]\n",
    "        \n",
    "        features.update({\n",
    "            'next_word': next_word,\n",
    "            'next_pos': data[i+1][1],\n",
    "            'next_lemma': data[i+1][2],\n",
    "            'next_next_word': data[i+2][0],\n",
    "            'next_next_lemma': data[i+2][2],\n",
    "            'next_next_pos': data[i+2][1],\n",
    "            'titlecase_next': next_word.istitle(),\n",
    "            'uppercase_next': next_word.isupper(),\n",
    "            'lowercase_next': next_word.islower(),\n",
    "            'digit_next': next_word.isdigit(),\n",
    "        })\n",
    "\n",
    "    elif i == (len(data)-2):\n",
    "        next_word = data[i+1][0]\n",
    "        \n",
    "        features.update({\n",
    "            'next_word': next_word,\n",
    "            'next_pos': data[i+1][1],\n",
    "            'next_lemma': data[i+1][2],\n",
    "            'next_next_word': '__End2__',\n",
    "            'next_next_lemma': '__End2__',\n",
    "            'next_next_pos': '__End2__',\n",
    "            'lowercase_next': next_word.islower(),\n",
    "            'titlecase_next': next_word.istitle(),\n",
    "            'uppercase_next': next_word.isupper(),\n",
    "            'digit_next': next_word.isdigit(),\n",
    "        })\n",
    "\n",
    "    elif i == (len(data)-1):\n",
    "        \n",
    "        features.update({\n",
    "            'next_word': '__End1',\n",
    "            'next_pos': '__End1',\n",
    "            'next_lemma': '__End1',\n",
    "            'next_next_word': '__End1__',\n",
    "            'next_next_lemma': '__End1__',\n",
    "            'next_next_pos': '__End1__',\n",
    "            'lowercase_next': '__End1__',\n",
    "            'titlecase_next': '__End1__',\n",
    "            'uppercase_next': '__End1__',\n",
    "            'digit_next': '__End1__',\n",
    "        })\n",
    "\n",
    "    return features\n",
    "\n",
    "def sent2features(sent):\n",
    "    return [word2features(sent, i) for i in range(len(sent))]\n"
   ]
  },
  {
   "cell_type": "code",
   "execution_count": 51,
   "metadata": {},
   "outputs": [
    {
     "name": "stdout",
     "output_type": "stream",
     "text": [
      "29 total after feature engineering (including 'Tag' column).\n"
     ]
    },
    {
     "data": {
      "text/html": [
       "<div>\n",
       "<style>\n",
       "    .dataframe thead tr:only-child th {\n",
       "        text-align: right;\n",
       "    }\n",
       "\n",
       "    .dataframe thead th {\n",
       "        text-align: left;\n",
       "    }\n",
       "\n",
       "    .dataframe tbody tr th {\n",
       "        vertical-align: top;\n",
       "    }\n",
       "</style>\n",
       "<table border=\"1\" class=\"dataframe\">\n",
       "  <thead>\n",
       "    <tr style=\"text-align: right;\">\n",
       "      <th></th>\n",
       "      <th>POS</th>\n",
       "      <th>Word</th>\n",
       "      <th>digit</th>\n",
       "      <th>digit_next</th>\n",
       "      <th>digit_prev</th>\n",
       "      <th>lemma</th>\n",
       "      <th>lowercase</th>\n",
       "      <th>lowercase_next</th>\n",
       "      <th>lowercase_prev</th>\n",
       "      <th>next_lemma</th>\n",
       "      <th>...</th>\n",
       "      <th>prev_prev_word</th>\n",
       "      <th>prev_word</th>\n",
       "      <th>stop_word</th>\n",
       "      <th>tag</th>\n",
       "      <th>titlecase</th>\n",
       "      <th>titlecase_next</th>\n",
       "      <th>titlecase_prev</th>\n",
       "      <th>uppercase</th>\n",
       "      <th>uppercase_next</th>\n",
       "      <th>uppercase_prev</th>\n",
       "    </tr>\n",
       "  </thead>\n",
       "  <tbody>\n",
       "    <tr>\n",
       "      <th>21522</th>\n",
       "      <td>.</td>\n",
       "      <td>.</td>\n",
       "      <td>False</td>\n",
       "      <td>__End1__</td>\n",
       "      <td>False</td>\n",
       "      <td>.</td>\n",
       "      <td>False</td>\n",
       "      <td>__End1__</td>\n",
       "      <td>False</td>\n",
       "      <td>__End1</td>\n",
       "      <td>...</td>\n",
       "      <td>Red</td>\n",
       "      <td>Sea</td>\n",
       "      <td>False</td>\n",
       "      <td>O</td>\n",
       "      <td>False</td>\n",
       "      <td>__End1__</td>\n",
       "      <td>True</td>\n",
       "      <td>False</td>\n",
       "      <td>__End1__</td>\n",
       "      <td>False</td>\n",
       "    </tr>\n",
       "    <tr>\n",
       "      <th>49967</th>\n",
       "      <td>VBN</td>\n",
       "      <td>released</td>\n",
       "      <td>False</td>\n",
       "      <td>False</td>\n",
       "      <td>False</td>\n",
       "      <td>release</td>\n",
       "      <td>True</td>\n",
       "      <td>False</td>\n",
       "      <td>True</td>\n",
       "      <td>Thursday</td>\n",
       "      <td>...</td>\n",
       "      <td>a</td>\n",
       "      <td>statement</td>\n",
       "      <td>False</td>\n",
       "      <td>O</td>\n",
       "      <td>False</td>\n",
       "      <td>True</td>\n",
       "      <td>False</td>\n",
       "      <td>False</td>\n",
       "      <td>False</td>\n",
       "      <td>False</td>\n",
       "    </tr>\n",
       "    <tr>\n",
       "      <th>53599</th>\n",
       "      <td>DT</td>\n",
       "      <td>the</td>\n",
       "      <td>False</td>\n",
       "      <td>False</td>\n",
       "      <td>False</td>\n",
       "      <td>the</td>\n",
       "      <td>True</td>\n",
       "      <td>True</td>\n",
       "      <td>True</td>\n",
       "      <td>virus</td>\n",
       "      <td>...</td>\n",
       "      <td>exposure</td>\n",
       "      <td>to</td>\n",
       "      <td>True</td>\n",
       "      <td>O</td>\n",
       "      <td>False</td>\n",
       "      <td>False</td>\n",
       "      <td>False</td>\n",
       "      <td>False</td>\n",
       "      <td>False</td>\n",
       "      <td>False</td>\n",
       "    </tr>\n",
       "    <tr>\n",
       "      <th>14914</th>\n",
       "      <td>,</td>\n",
       "      <td>,</td>\n",
       "      <td>False</td>\n",
       "      <td>False</td>\n",
       "      <td>True</td>\n",
       "      <td>,</td>\n",
       "      <td>False</td>\n",
       "      <td>True</td>\n",
       "      <td>False</td>\n",
       "      <td>but</td>\n",
       "      <td>...</td>\n",
       "      <td>in</td>\n",
       "      <td>1954</td>\n",
       "      <td>False</td>\n",
       "      <td>O</td>\n",
       "      <td>False</td>\n",
       "      <td>False</td>\n",
       "      <td>False</td>\n",
       "      <td>False</td>\n",
       "      <td>False</td>\n",
       "      <td>False</td>\n",
       "    </tr>\n",
       "    <tr>\n",
       "      <th>43514</th>\n",
       "      <td>DT</td>\n",
       "      <td>the</td>\n",
       "      <td>False</td>\n",
       "      <td>False</td>\n",
       "      <td>False</td>\n",
       "      <td>the</td>\n",
       "      <td>True</td>\n",
       "      <td>True</td>\n",
       "      <td>True</td>\n",
       "      <td>city</td>\n",
       "      <td>...</td>\n",
       "      <td>part</td>\n",
       "      <td>of</td>\n",
       "      <td>True</td>\n",
       "      <td>O</td>\n",
       "      <td>False</td>\n",
       "      <td>False</td>\n",
       "      <td>False</td>\n",
       "      <td>False</td>\n",
       "      <td>False</td>\n",
       "      <td>False</td>\n",
       "    </tr>\n",
       "  </tbody>\n",
       "</table>\n",
       "<p>5 rows × 29 columns</p>\n",
       "</div>"
      ],
      "text/plain": [
       "       POS      Word  digit digit_next digit_prev    lemma  lowercase  \\\n",
       "21522    .         .  False   __End1__      False        .      False   \n",
       "49967  VBN  released  False      False      False  release       True   \n",
       "53599   DT       the  False      False      False      the       True   \n",
       "14914    ,         ,  False      False       True        ,      False   \n",
       "43514   DT       the  False      False      False      the       True   \n",
       "\n",
       "      lowercase_next lowercase_prev next_lemma      ...       prev_prev_word  \\\n",
       "21522       __End1__          False     __End1      ...                  Red   \n",
       "49967          False           True   Thursday      ...                    a   \n",
       "53599           True           True      virus      ...             exposure   \n",
       "14914           True          False        but      ...                   in   \n",
       "43514           True           True       city      ...                 part   \n",
       "\n",
       "       prev_word stop_word tag titlecase titlecase_next titlecase_prev  \\\n",
       "21522        Sea     False   O     False       __End1__           True   \n",
       "49967  statement     False   O     False           True          False   \n",
       "53599         to      True   O     False          False          False   \n",
       "14914       1954     False   O     False          False          False   \n",
       "43514         of      True   O     False          False          False   \n",
       "\n",
       "      uppercase uppercase_next uppercase_prev  \n",
       "21522     False       __End1__          False  \n",
       "49967     False          False          False  \n",
       "53599     False          False          False  \n",
       "14914     False          False          False  \n",
       "43514     False          False          False  \n",
       "\n",
       "[5 rows x 29 columns]"
      ]
     },
     "metadata": {},
     "output_type": "display_data"
    }
   ],
   "source": [
    "features_final = [sent2features(s) for s in sentences]\n",
    "\n",
    "features_transient = [pd.DataFrame.from_dict(sent) for sent in features_final]\n",
    "features = pd.concat(features_transient, ignore_index = True)\n",
    "print(\"{} total after feature engineering (including 'Tag' column).\".format(len(list(features.columns))))\n",
    "display(features.sample(5))"
   ]
  },
  {
   "cell_type": "code",
   "execution_count": 52,
   "metadata": {
    "collapsed": true
   },
   "outputs": [],
   "source": [
    "features_final = features.drop('tag', axis=1)\n",
    "Tags = features['tag']"
   ]
  },
  {
   "cell_type": "markdown",
   "metadata": {},
   "source": [
    "All the features generated are either boolean expressions or strings. There is no need to perform normalization or any kind of transformation on this data. However, we should use a label encoder or conver all the string into a number respresentation for the algorithm to understand. Here I used LabelEncoder from the preprocessing toolkit. "
   ]
  },
  {
   "cell_type": "code",
   "execution_count": 53,
   "metadata": {
    "collapsed": true
   },
   "outputs": [],
   "source": [
    "from sklearn import preprocessing\n",
    "\n",
    "le = preprocessing.LabelEncoder()\n",
    "for column_name in features_final.columns:\n",
    "    if features_final[column_name].dtype == object:\n",
    "        features_final[column_name] = le.fit_transform(features_final[column_name])\n",
    "    else:\n",
    "        pass"
   ]
  },
  {
   "cell_type": "markdown",
   "metadata": {},
   "source": [
    "Here I tried three supervised learning algorithms to see their relative performance: RandomForest, GradientBoosting and Conditional random field classifiers."
   ]
  },
  {
   "cell_type": "code",
   "execution_count": 54,
   "metadata": {
    "scrolled": false
   },
   "outputs": [
    {
     "name": "stdout",
     "output_type": "stream",
     "text": [
      "             precision    recall  f1-score   support\n",
      "\n",
      "      I-art       0.25      0.03      0.05        34\n",
      "      B-gpe       0.69      0.67      0.68      1230\n",
      "      B-art       0.00      0.00      0.00        53\n",
      "      I-per       0.70      0.82      0.76      1234\n",
      "      I-eve       0.17      0.08      0.11        37\n",
      "      B-org       0.54      0.47      0.50      1237\n",
      "      B-eve       0.35      0.13      0.19        45\n",
      "      B-geo       0.60      0.75      0.66      2070\n",
      "      I-org       0.56      0.50      0.53       926\n",
      "      I-geo       0.52      0.46      0.49       414\n",
      "      B-nat       0.00      0.00      0.00        20\n",
      "      I-tim       0.74      0.41      0.52       334\n",
      "      I-gpe       0.23      0.09      0.13        34\n",
      "      B-tim       0.74      0.59      0.66      1160\n",
      "      I-nat       0.00      0.00      0.00         9\n",
      "      B-per       0.69      0.67      0.68      1107\n",
      "\n",
      "avg / total       0.63      0.62      0.62      9944\n",
      "\n"
     ]
    }
   ],
   "source": [
    "from sklearn.ensemble import RandomForestClassifier\n",
    "\n",
    "clf_B = RandomForestClassifier(random_state = 10)\n",
    "y_pred_RF = cross_val_predict(estimator=clf_B, X=features_final, y=Tags, cv=5)\n",
    "report_RF = classification_report(Tags, y_pred_RF, labels=labels)\n",
    "print(report_RF)"
   ]
  },
  {
   "cell_type": "code",
   "execution_count": 55,
   "metadata": {},
   "outputs": [
    {
     "name": "stdout",
     "output_type": "stream",
     "text": [
      "             precision    recall  f1-score   support\n",
      "\n",
      "      I-art       0.00      0.00      0.00        34\n",
      "      B-gpe       0.76      0.70      0.73      1230\n",
      "      B-art       0.09      0.04      0.05        53\n",
      "      I-per       0.72      0.87      0.79      1234\n",
      "      I-eve       0.28      0.14      0.18        37\n",
      "      B-org       0.63      0.49      0.55      1237\n",
      "      B-eve       0.46      0.13      0.21        45\n",
      "      B-geo       0.62      0.81      0.70      2070\n",
      "      I-org       0.64      0.53      0.58       926\n",
      "      I-geo       0.62      0.49      0.54       414\n",
      "      B-nat       0.25      0.20      0.22        20\n",
      "      I-tim       0.74      0.38      0.50       334\n",
      "      I-gpe       0.16      0.09      0.11        34\n",
      "      B-tim       0.81      0.63      0.71      1160\n",
      "      I-nat       0.40      0.22      0.29         9\n",
      "      B-per       0.71      0.73      0.72      1107\n",
      "\n",
      "avg / total       0.68      0.66      0.66      9944\n",
      "\n"
     ]
    }
   ],
   "source": [
    "from sklearn.ensemble import GradientBoostingClassifier\n",
    "\n",
    "clf_A = GradientBoostingClassifier(random_state = 10)\n",
    "\n",
    "y_pred_GB = cross_val_predict(estimator=clf_A, X=features_final, y=Tags, cv=5)\n",
    "report_GB = classification_report(Tags, y_pred_GB, labels=labels)\n",
    "print(report_GB)"
   ]
  },
  {
   "cell_type": "markdown",
   "metadata": {},
   "source": [
    "## Conditional Random Field Algorithm\n",
    "\n",
    "To see the performance, a simple CRF algorithm is tried here using the sklearn_crfsuite toolkit. This considers the conditional probabilities in predictions. It is successfully applied in many NLP applications. \n",
    "\n",
    "sklearn_crfsuite requires the inputs to be in the form of dict. Hence slight modification is done for the inputs and is implemented in the follwoing code cells."
   ]
  },
  {
   "cell_type": "code",
   "execution_count": 56,
   "metadata": {
    "collapsed": true
   },
   "outputs": [],
   "source": [
    "def word2features1(data, i):\n",
    "    \n",
    "    ''' Expects a sentence (as printed above) and the index for the word\n",
    "    as input and returns the features corresponding to that word as a dict'''\n",
    "    \n",
    "    Word = data[i][0]\n",
    "    POS = data[i][1]\n",
    "    lemma = data[i][2]\n",
    "    stop_word = data[i][3]\n",
    "    tag = data[i][4]\n",
    "    features = {\n",
    "        'Word': Word,\n",
    "        'POS': POS,\n",
    "        'lemma': lemma,\n",
    "        'stop_word': stop_word,\n",
    "        'lowercase': Word.islower(),\n",
    "        'uppercase': Word.isupper(),\n",
    "        'titlecase': Word.istitle(),\n",
    "        'digit': Word.isdigit(),\n",
    "    }\n",
    "    if i == 1:\n",
    "        prev_word = data[i-1][0]\n",
    "        prev_pos = data[i-1][1]\n",
    "        prev_lemma = data[i-1][2]\n",
    "        features.update({\n",
    "            'prev_word': prev_word,\n",
    "            'prev_pos': prev_pos,\n",
    "            'prev_lemma': prev_lemma,\n",
    "            'prev_prev_word': '__Start2__',\n",
    "            'prev_prev_pos': '__Start2__',\n",
    "            'prev_prev_lemma': '__Start2__',\n",
    "            'lowercase_prev': prev_word.islower(),\n",
    "            'titlecase_prev': prev_word.istitle(),\n",
    "            'uppercase_prev': prev_word.isupper(),\n",
    "            'digit_prev': prev_word.isdigit(),\n",
    "        })\n",
    "    elif i > 1:\n",
    "        prev_word = data[i-1][0]\n",
    "        \n",
    "        features.update({\n",
    "            'prev_word': prev_word,\n",
    "            'prev_pos': data[i-1][1],\n",
    "            'prev_lemma': data[i-1][2],\n",
    "            'prev_prev_word': data[i-2][0],\n",
    "            'prev_prev_pos': data[i-2][1],\n",
    "            'prev_prev_lemma':data[i-2][2],\n",
    "            'titlecase_prev': prev_word.istitle(),\n",
    "            'lowercase_prev': prev_word.islower(),\n",
    "            'uppercase_prev': prev_word.isupper(),\n",
    "            'digit_prev': prev_word.isdigit(),\n",
    "        })\n",
    "\n",
    "    elif i == 0:\n",
    "        \n",
    "        features.update({\n",
    "            'prev_word': '__Start1__',\n",
    "            'prev_pos': '__Start1__',\n",
    "            'prev_lemma': '__Start1__',\n",
    "            'prev_prev_word': '__Start1__',\n",
    "            'prev_prev_pos': '__Start1__',\n",
    "            'prev_prev_lemma': '__Start1__',\n",
    "            'lowercase_prev': '__Start1__',\n",
    "            'titlecase_prev': '__Start1__',\n",
    "            'uppercase_prev': '__Start1__',\n",
    "            'digit_prev': '__Start1__',\n",
    "        })\n",
    "\n",
    "\n",
    "    if i < len(data)-2:\n",
    "        next_word = data[i+1][0]\n",
    "        \n",
    "        features.update({\n",
    "            'next_word': next_word,\n",
    "            'next_pos': data[i+1][1],\n",
    "            'next_lemma': data[i+1][2],\n",
    "            'next_next_word': data[i+2][0],\n",
    "            'next_next_lemma': data[i+2][2],\n",
    "            'next_next_pos': data[i+2][1],\n",
    "            'titlecase_next': next_word.istitle(),\n",
    "            'uppercase_next': next_word.isupper(),\n",
    "            'lowercase_next': next_word.islower(),\n",
    "            'digit_next': next_word.isdigit(),\n",
    "        })\n",
    "\n",
    "    elif i == (len(data)-2):\n",
    "        next_word = data[i+1][0]\n",
    "        \n",
    "        features.update({\n",
    "            'next_word': next_word,\n",
    "            'next_pos': data[i+1][1],\n",
    "            'next_lemma': data[i+1][2],\n",
    "            'next_next_word': '__End2__',\n",
    "            'next_next_lemma': '__End2__',\n",
    "            'next_next_pos': '__End2__',\n",
    "            'lowercase_next': next_word.islower(),\n",
    "            'titlecase_next': next_word.istitle(),\n",
    "            'uppercase_next': next_word.isupper(),\n",
    "            'digit_next': next_word.isdigit(),\n",
    "        })\n",
    "\n",
    "    elif i == (len(data)-1):\n",
    "        \n",
    "        features.update({\n",
    "            'next_word': '__End1',\n",
    "            'next_pos': '__End1',\n",
    "            'next_lemma': '__End1',\n",
    "            'next_next_word': '__End1__',\n",
    "            'next_next_lemma': '__End1__',\n",
    "            'next_next_pos': '__End1__',\n",
    "            'lowercase_next': '__End1__',\n",
    "            'titlecase_next': '__End1__',\n",
    "            'uppercase_next': '__End1__',\n",
    "            'digit_next': '__End1__',\n",
    "        })\n",
    "\n",
    "    return features\n",
    "\n",
    "def sent2features1(sent):\n",
    "    return [word2features1(sent, i) for i in range(len(sent))]\n",
    "\n",
    "def sent2labels1(sent):\n",
    "    return [label for word, pos, lemma, stopword, label in sent]"
   ]
  },
  {
   "cell_type": "code",
   "execution_count": 57,
   "metadata": {},
   "outputs": [
    {
     "name": "stderr",
     "output_type": "stream",
     "text": [
      "C:\\Users\\YathishPC\\Anaconda2\\lib\\site-packages\\sklearn\\metrics\\classification.py:1135: UndefinedMetricWarning: Precision and F-score are ill-defined and being set to 0.0 in labels with no predicted samples.\n",
      "  'precision', 'predicted', average, warn_for)\n"
     ]
    },
    {
     "name": "stdout",
     "output_type": "stream",
     "text": [
      "             precision    recall  f1-score   support\n",
      "\n",
      "      I-art       0.00      0.00      0.00        34\n",
      "      B-gpe       0.81      0.72      0.76      1230\n",
      "      B-art       0.00      0.00      0.00        53\n",
      "      I-per       0.82      0.90      0.86      1234\n",
      "      I-eve       0.44      0.19      0.26        37\n",
      "      B-org       0.65      0.60      0.63      1237\n",
      "      B-eve       0.56      0.22      0.32        45\n",
      "      B-geo       0.71      0.82      0.76      2070\n",
      "      I-org       0.70      0.73      0.72       926\n",
      "      I-geo       0.68      0.63      0.65       414\n",
      "      B-nat       0.22      0.10      0.14        20\n",
      "      I-tim       0.72      0.50      0.59       334\n",
      "      I-gpe       0.14      0.06      0.08        34\n",
      "      B-tim       0.90      0.80      0.85      1160\n",
      "      I-nat       0.67      0.22      0.33         9\n",
      "      B-per       0.80      0.77      0.78      1107\n",
      "\n",
      "avg / total       0.75      0.74      0.74      9944\n",
      "\n"
     ]
    }
   ],
   "source": [
    "from sklearn_crfsuite import CRF\n",
    "from sklearn_crfsuite.metrics import flat_classification_report\n",
    "\n",
    "crf = CRF(algorithm='lbfgs',\n",
    "          c1=0.1,\n",
    "          c2=0.1,\n",
    "          max_iterations=100,\n",
    "          all_possible_transitions=False)\n",
    "\n",
    "X = [sent2features1(s) for s in sentences]\n",
    "y = [sent2labels1(s) for s in sentences]\n",
    "\n",
    "y_pred_crf = cross_val_predict(estimator=crf, X=X, y=y, cv=10)\n",
    "report_crf = flat_classification_report(y_pred = y_pred_crf, y_true=y, labels=labels)\n",
    "print(report_crf)"
   ]
  },
  {
   "cell_type": "code",
   "execution_count": 58,
   "metadata": {
    "collapsed": true
   },
   "outputs": [],
   "source": [
    "def classificationReport2dict(report):\n",
    "    lines = report.split('\\n')\n",
    "    classes = {}\n",
    "    \n",
    "    classes.update({'Precision': lines[19].split()[3],\n",
    "                   'Recall': lines[19].split()[4],\n",
    "                   'F1-Score': lines[19].split()[5],})\n",
    "    \n",
    "    return classes"
   ]
  },
  {
   "cell_type": "code",
   "execution_count": 100,
   "metadata": {
    "scrolled": false
   },
   "outputs": [
    {
     "data": {
      "text/html": [
       "<div>\n",
       "<style>\n",
       "    .dataframe thead tr:only-child th {\n",
       "        text-align: right;\n",
       "    }\n",
       "\n",
       "    .dataframe thead th {\n",
       "        text-align: left;\n",
       "    }\n",
       "\n",
       "    .dataframe tbody tr th {\n",
       "        vertical-align: top;\n",
       "    }\n",
       "</style>\n",
       "<table border=\"1\" class=\"dataframe\">\n",
       "  <thead>\n",
       "    <tr style=\"text-align: right;\">\n",
       "      <th></th>\n",
       "      <th>Algorithm</th>\n",
       "      <th>F1-Score</th>\n",
       "      <th>Precision</th>\n",
       "      <th>Recall</th>\n",
       "    </tr>\n",
       "  </thead>\n",
       "  <tbody>\n",
       "    <tr>\n",
       "      <th>0</th>\n",
       "      <td>Memory Tagger</td>\n",
       "      <td>0.61</td>\n",
       "      <td>0.70</td>\n",
       "      <td>0.55</td>\n",
       "    </tr>\n",
       "    <tr>\n",
       "      <th>1</th>\n",
       "      <td>Random Forest</td>\n",
       "      <td>0.62</td>\n",
       "      <td>0.63</td>\n",
       "      <td>0.62</td>\n",
       "    </tr>\n",
       "    <tr>\n",
       "      <th>2</th>\n",
       "      <td>Gradient Boosting</td>\n",
       "      <td>0.66</td>\n",
       "      <td>0.68</td>\n",
       "      <td>0.66</td>\n",
       "    </tr>\n",
       "    <tr>\n",
       "      <th>3</th>\n",
       "      <td>Conditional Random Field</td>\n",
       "      <td>0.74</td>\n",
       "      <td>0.75</td>\n",
       "      <td>0.74</td>\n",
       "    </tr>\n",
       "  </tbody>\n",
       "</table>\n",
       "</div>"
      ],
      "text/plain": [
       "                  Algorithm F1-Score Precision Recall\n",
       "0             Memory Tagger     0.61      0.70   0.55\n",
       "1             Random Forest     0.62      0.63   0.62\n",
       "2         Gradient Boosting     0.66      0.68   0.66\n",
       "3  Conditional Random Field     0.74      0.75   0.74"
      ]
     },
     "metadata": {},
     "output_type": "display_data"
    }
   ],
   "source": [
    "A = classificationReport2dict(base_model)\n",
    "A.update({'Algorithm':'Memory Tagger',})\n",
    "B = classificationReport2dict(report_RF)\n",
    "B.update({'Algorithm':'Random Forest',})\n",
    "C = classificationReport2dict(report_GB)\n",
    "C.update({'Algorithm':'Gradient Boosting',})\n",
    "D = classificationReport2dict(report_crf)\n",
    "D.update({'Algorithm':'Conditional Random Field',})\n",
    "results = [A,B,C,D]\n",
    "metrics = pd.DataFrame.from_dict(results)\n",
    "display(metrics)"
   ]
  },
  {
   "cell_type": "markdown",
   "metadata": {},
   "source": [
    "We shall compare RandomForest & GradientBoosting algorithms. MemoryTagger is not a good idea as it just remembers the data. From the cross_validation reports, it is evident (F1-scores) that GradientBoosting algorithm does better than RandomForest. Also the overall average F1-score is 0.66 for GradientBoosting algorithm & 0.63 for RandomForest. Note that class 'O' is excluded in calculating the overall F1-score. Also, one thing to note is that `'Recall'` has improved significantly when ML models are used.\n",
    "CRF does better than RF and GB, but it is not optimized here as it was used in Stanford CoreNLP.\n",
    "\n",
    "Conditional random field algorithm performs much better on the dataset. The precision, recall and over all F1-score imporved to 0.74. Tuning the regularization parameters might yield better results. GridSearch and complexity curves would reveal more information and help in tuning the model for optimum performance. \n",
    "\n",
    "Importance of context in NER, skewness in the data, large volume of data and large number of features involved makes CRF a good algorithm for this particular data set. Also, F1-score is highest for CRF algorith. I will go ahead with CRF and perform a grid search optimization over the entire training set by tuning at least one parameter to improve upon the untuned model's F1-score. "
   ]
  },
  {
   "cell_type": "markdown",
   "metadata": {},
   "source": [
    "In NER problems, we shall be careful while doing a test train split. We have to do the split on the sentences so that we don't loose the context and avoid data bleeding. This is implemented in the following cell. The sentences are first split and then every word in those train sets is used for training"
   ]
  },
  {
   "cell_type": "code",
   "execution_count": 69,
   "metadata": {},
   "outputs": [
    {
     "name": "stdout",
     "output_type": "stream",
     "text": [
      "Training set has 2399 sentences.\n",
      "Testing set has 600 sentences.\n"
     ]
    }
   ],
   "source": [
    "from sklearn.model_selection import train_test_split\n",
    "\n",
    "# Split the 'features' and 'income' data into training and testing sets\n",
    "X_train, X_test, y_train, y_test = train_test_split(X, \n",
    "                                                    y, \n",
    "                                                    test_size = 0.2, \n",
    "                                                    random_state = 0)\n",
    "\n",
    "# Show the results of the split\n",
    "print(\"Training set has {} sentences.\".format(len(X_train)))\n",
    "print(\"Testing set has {} sentences.\".format(len(X_test)))"
   ]
  },
  {
   "cell_type": "markdown",
   "metadata": {},
   "source": [
    "## Model Tuning (Grid Search)\n",
    "Inorder to tune the model to get optimal parameters, we can employ techniques like GridSearchCV and RandomizedSearchCV.\n",
    "-  These are techniques that are used to find the optimal hyper parameters for the model\n",
    "-  Select the hyperparameters that might improve the model (based on intuition) and then fit the model with all combinations of parameters. Calculate the evaluation metric F1-score and find the optimal combination. Use that to finally make the model\n",
    "-  In gridsearch, model is validated using k-fold cross-validation: divide the data into k bins and use k-1 bins for training and the remaining bin for testing. We repeat this process k times and finally calculate the average error which will be the generalized error. This will remove/reduce the bias in the data if any. ShuffleSplit is another cross-validation technique which is implemented in this. In the following implementation, it creates 5 shuffled sets, and for each shuffle, 20%('test_size') of data will be used as validation set. It helps to avoid overfitting."
   ]
  },
  {
   "cell_type": "code",
   "execution_count": 73,
   "metadata": {},
   "outputs": [
    {
     "name": "stdout",
     "output_type": "stream",
     "text": [
      "{'c2': 0.018117123574024716, 'c1': 0.31760548772707742}\n",
      "Unoptimized model\n",
      "----------------------\n",
      "             precision    recall  f1-score   support\n",
      "\n",
      "      I-art       0.00      0.00      0.00         7\n",
      "      B-gpe       0.84      0.82      0.83       244\n",
      "      B-art       0.00      0.00      0.00        16\n",
      "      I-per       0.83      0.95      0.89       276\n",
      "      I-eve       1.00      0.33      0.50         6\n",
      "      B-org       0.68      0.62      0.65       256\n",
      "      B-eve       1.00      0.29      0.44         7\n",
      "      B-geo       0.75      0.86      0.80       392\n",
      "      I-org       0.71      0.75      0.73       193\n",
      "      I-geo       0.70      0.63      0.67        68\n",
      "      B-nat       0.00      0.00      0.00         5\n",
      "      I-tim       0.78      0.45      0.57        86\n",
      "      I-gpe       1.00      0.11      0.20         9\n",
      "      B-tim       0.94      0.75      0.84       258\n",
      "      I-nat       0.00      0.00      0.00         5\n",
      "      B-per       0.87      0.85      0.86       255\n",
      "\n",
      "avg / total       0.79      0.77      0.77      2083\n",
      "\n",
      "Optimized model\n",
      "----------------------\n",
      "             precision    recall  f1-score   support\n",
      "\n",
      "      I-art       0.00      0.00      0.00         7\n",
      "      B-gpe       0.86      0.82      0.84       244\n",
      "      B-art       1.00      0.06      0.12        16\n",
      "      I-per       0.84      0.94      0.89       276\n",
      "      I-eve       0.60      0.50      0.55         6\n",
      "      B-org       0.67      0.62      0.64       256\n",
      "      B-eve       0.71      0.71      0.71         7\n",
      "      B-geo       0.77      0.84      0.80       392\n",
      "      I-org       0.72      0.76      0.74       193\n",
      "      I-geo       0.70      0.62      0.66        68\n",
      "      B-nat       1.00      0.20      0.33         5\n",
      "      I-tim       0.83      0.50      0.62        86\n",
      "      I-gpe       1.00      0.11      0.20         9\n",
      "      B-tim       0.93      0.83      0.88       258\n",
      "      I-nat       1.00      0.20      0.33         5\n",
      "      B-per       0.87      0.85      0.86       255\n",
      "\n",
      "avg / total       0.81      0.78      0.78      2083\n",
      "\n"
     ]
    }
   ],
   "source": [
    "from sklearn.model_selection import RandomizedSearchCV\n",
    "from sklearn.model_selection import ShuffleSplit\n",
    "from sklearn.metrics import make_scorer\n",
    "from sklearn_crfsuite.metrics import flat_f1_score\n",
    "from scipy.stats import expon\n",
    "\n",
    "clf = CRF(algorithm='lbfgs',\n",
    "          max_iterations=100,\n",
    "          all_possible_transitions=True)\n",
    "\n",
    "param_dist = {\"c1\": expon(scale = 0.5),\n",
    "              \"c2\": expon(scale = 0.05)}\n",
    "\n",
    "scorer = make_scorer(flat_f1_score, labels= labels, average = 'weighted')\n",
    "\n",
    "cv_sets = ShuffleSplit(n_splits = 5, test_size = 0.20, random_state = 0)\n",
    "\n",
    "grid_obj = RandomizedSearchCV(clf, param_dist, scoring=scorer, cv=cv_sets, verbose = 0, n_iter = 25)\n",
    "\n",
    "grid_fit = grid_obj.fit(X_train, y_train)\n",
    "\n",
    "# Get the estimator\n",
    "best_clf = grid_fit.best_estimator_\n",
    "best_parameters = grid_fit.best_params_\n",
    "print(best_parameters)\n",
    "\n",
    "# Make predictions using the unoptimized and optimized model\n",
    "predictions = (clf.fit(X_train, y_train)).predict(X_test)\n",
    "best_predictions = best_clf.predict(X_test)\n",
    "print(\"Unoptimized model\\n----------------------\")\n",
    "print(flat_classification_report(y_test, predictions, labels = labels))\n",
    "print(\"Optimized model\\n----------------------\")\n",
    "print(flat_classification_report(y_test, best_predictions, labels = labels))"
   ]
  },
  {
   "cell_type": "markdown",
   "metadata": {},
   "source": [
    "As we see in the calssification report, optimized model has better F1-score and other evaluation metrics."
   ]
  },
  {
   "cell_type": "markdown",
   "metadata": {},
   "source": [
    "## Analyzing Model Performance\n",
    "\n",
    "### Learning Curves\n",
    "Here, we'll take a look at the models' learning and testing performances on various subsets of training data. Graphing the model's performance based on varying criteria can be beneficial in the analysis process, such as visualizing behavior that may not have been apparent from the results alone."
   ]
  },
  {
   "cell_type": "code",
   "execution_count": 87,
   "metadata": {
    "collapsed": true
   },
   "outputs": [],
   "source": [
    "from sklearn.model_selection import learning_curve\n",
    "\n",
    "def ModelLearning(X, y, regressor):\n",
    "    \"\"\" Calculates the performance of several models with varying sizes of training data.\n",
    "        The learning and testing scores for each model are then plotted. \"\"\"\n",
    "    \n",
    "    \n",
    "    cv = ShuffleSplit(n_splits=5, test_size = 0.2, random_state = 0)\n",
    "    \n",
    "    scorer = make_scorer(flat_f1_score,labels = labels,average = 'weighted')\n",
    "    \n",
    "    train_sizes = np.rint(np.linspace(1, len(X)*0.8 - 1, 9)).astype(int)\n",
    "\n",
    "    sizes, train_scores, test_scores = learning_curve(regressor, X, y, \\\n",
    "            cv = cv, train_sizes = train_sizes, scoring = scorer, verbose=0)\n",
    "        \n",
    "        # Find the mean and standard deviation for smoothing\n",
    "    train_std = np.std(train_scores, axis = 1)\n",
    "    train_mean = np.mean(train_scores, axis = 1)\n",
    "    test_std = np.std(test_scores, axis = 1)\n",
    "    test_mean = np.mean(test_scores, axis = 1)\n",
    "\n",
    "    plt.figure(figsize=(7,5))\n",
    "    plt.plot(sizes, train_mean, 'o-', color = 'r', label = 'Training Score')\n",
    "    plt.plot(sizes, test_mean, 'o-', color = 'g', label = 'Testing Score')\n",
    "    plt.fill_between(sizes, train_mean - train_std, \\\n",
    "        train_mean + train_std, alpha = 0.15, color = 'r')\n",
    "    plt.fill_between(sizes, test_mean - test_std, \\\n",
    "        test_mean + test_std, alpha = 0.15, color = 'g')\n",
    "        \n",
    "        # Labels\n",
    "    plt.title('Learning Curve')\n",
    "    \n",
    "    # Visual aesthetics\n",
    "    plt.legend(loc = 'lower right')\n",
    "    plt.xlabel('Number of sentences in Training set')\n",
    "    plt.ylabel('F1-Score')\n",
    "    plt.ylim([-0.05,1.05])\n",
    "    plt.xlim([0, len(X)*0.8])\n",
    "    plt.show()"
   ]
  },
  {
   "cell_type": "code",
   "execution_count": 88,
   "metadata": {
    "scrolled": false
   },
   "outputs": [
    {
     "data": {
      "image/png": "[encoded data removed]",
      "text/plain": [
       "<matplotlib.figure.Figure at 0x1ffa1dd8>"
      ]
     },
     "metadata": {},
     "output_type": "display_data"
    }
   ],
   "source": [
    "ModelLearning(X,y,best_clf)"
   ]
  },
  {
   "cell_type": "markdown",
   "metadata": {},
   "source": [
    "The above learning curves are generated using weighted average f1-score for all named-entities ('O' is excluded from the f1-score calculation). If 'O' is also included then test f1-score will also be close to train f1-score. These curves are useful in finding out if the model is limited by data. validation score is increasing marginally with increase in data points, but it is not very significant after 2000 sentences. It looks like the algorithm is not limited by data. But we need to be careful about multiple classes that are present. It is possible to look at scores of each class seperately and see how each class is being affected by addition of more data.  "
   ]
  },
  {
   "cell_type": "markdown",
   "metadata": {},
   "source": [
    "### Complexity Curves\n",
    "The following two code cells produces a graph for a conditional random field model that has been trained and validated on the dataset using different values for the first order regularization parameter 'C1'. The graph produces two complexity curves — one for training and one for validation. Similar to the **learning curves**, the shaded regions of both the complexity curves denote the uncertainty in those curves, and the model is scored on both the training and validation sets using the `scorer` function."
   ]
  },
  {
   "cell_type": "code",
   "execution_count": 94,
   "metadata": {
    "collapsed": true
   },
   "outputs": [],
   "source": [
    "from sklearn.model_selection import validation_curve\n",
    "\n",
    "def ModelComplexity(X, y, best_clf):\n",
    "    \"\"\" Calculates the performance of the model as model complexity increases.\n",
    "        The learning and testing errors rates are then plotted. \"\"\"\n",
    "    \n",
    "    cv = ShuffleSplit(n_splits = 5, test_size = 0.2, random_state = 0)\n",
    "\n",
    "    c1 = np.arange(0.0, 1, 0.05)\n",
    "    \n",
    "    scorer = make_scorer(flat_f1_score, labels = labels, average = 'weighted')    \n",
    "\n",
    "    # Calculate the training and testing scores\n",
    "    train_scores, test_scores = validation_curve(best_clf, X, y, \\\n",
    "        param_name = \"c1\", param_range = c1, cv = cv, scoring = scorer)\n",
    "\n",
    "    # Find the mean and standard deviation for smoothing\n",
    "    train_mean = np.mean(train_scores, axis=1)\n",
    "    train_std = np.std(train_scores, axis=1)\n",
    "    test_mean = np.mean(test_scores, axis=1)\n",
    "    test_std = np.std(test_scores, axis=1)\n",
    "\n",
    "    # Plot the validation curve\n",
    "    plt.figure(figsize=(7, 5))\n",
    "    plt.title('CRF Complexity Performance')\n",
    "    plt.plot(c1, train_mean, 'o-', color = 'r', label = 'Training Score')\n",
    "    plt.plot(c1, test_mean, 'o-', color = 'g', label = 'Validation Score')\n",
    "    plt.fill_between(c1, train_mean - train_std, \\\n",
    "        train_mean + train_std, alpha = 0.15, color = 'r')\n",
    "    plt.fill_between(c1, test_mean - test_std, \\\n",
    "        test_mean + test_std, alpha = 0.15, color = 'g')\n",
    "    \n",
    "    # Visual aesthetics\n",
    "    plt.legend(loc = 'lower right')\n",
    "    plt.xlabel('Regularization parameter, C1')\n",
    "    plt.ylabel('F1-Score')\n",
    "    plt.ylim([-0.05,1.05])\n",
    "    plt.show()"
   ]
  },
  {
   "cell_type": "code",
   "execution_count": 95,
   "metadata": {},
   "outputs": [
    {
     "data": {
      "image/png": "[encoded data removed]",
      "text/plain": [
       "<matplotlib.figure.Figure at 0x316f4e0>"
      ]
     },
     "metadata": {},
     "output_type": "display_data"
    }
   ],
   "source": [
    "ModelComplexity(X,y,best_clf)"
   ]
  },
  {
   "cell_type": "markdown",
   "metadata": {},
   "source": [
    "-  The above graph shows the performance of algorithm as we vary the first order regularization parameter, `C1`. Validation score is almost indifferent to the changes in C1. Training score increases as we decrease the C1 and hence the gap between test & train score is increasing. Looking at the training score of close to 1, it looks like the model is getting over fitted. However, we need further exploration to decide on over fitting.  "
   ]
  },
  {
   "cell_type": "markdown",
   "metadata": {},
   "source": [
    "The following cell shows the most likely and most unlikely transitions from one tag to another as per the optimized algorithm. "
   ]
  },
  {
   "cell_type": "code",
   "execution_count": 98,
   "metadata": {},
   "outputs": [
    {
     "name": "stdout",
     "output_type": "stream",
     "text": [
      "Top likely transitions:\n",
      "B-art  -> I-art   7.514900\n",
      "B-eve  -> I-eve   7.158015\n",
      "I-art  -> I-art   6.668138\n",
      "I-eve  -> I-eve   6.067339\n",
      "I-gpe  -> I-gpe   5.507066\n",
      "B-nat  -> I-nat   5.461355\n",
      "B-gpe  -> I-gpe   5.460731\n",
      "B-org  -> I-org   5.260555\n",
      "I-org  -> I-org   4.826151\n",
      "B-geo  -> I-geo   4.743480\n",
      "I-geo  -> I-geo   4.525396\n",
      "O      -> O       4.497626\n",
      "B-per  -> I-per   4.346820\n",
      "I-tim  -> I-tim   3.940976\n",
      "B-tim  -> I-tim   3.706914\n",
      "I-per  -> I-per   3.270650\n",
      "O      -> B-per   2.308072\n",
      "B-gpe  -> B-org   2.117786\n",
      "O      -> B-org   1.752272\n",
      "O      -> B-tim   1.736650\n",
      "\n",
      "Top unlikely transitions:\n",
      "B-geo  -> B-geo   -1.565001\n",
      "B-gpe  -> I-per   -1.582340\n",
      "B-org  -> I-per   -1.867718\n",
      "B-per  -> I-org   -1.873048\n",
      "B-gpe  -> I-geo   -2.037696\n",
      "I-tim  -> B-tim   -2.264695\n",
      "B-geo  -> I-tim   -2.281119\n",
      "B-geo  -> B-per   -2.281602\n",
      "B-geo  -> I-per   -2.408835\n",
      "B-gpe  -> I-org   -2.565429\n",
      "B-geo  -> I-org   -2.637556\n",
      "I-org  -> I-per   -2.866836\n",
      "B-tim  -> B-tim   -3.131238\n",
      "O      -> I-per   -3.214667\n",
      "I-per  -> B-per   -3.430358\n",
      "B-per  -> B-per   -3.735447\n",
      "O      -> I-tim   -4.693059\n",
      "B-gpe  -> B-gpe   -4.719680\n",
      "O      -> I-geo   -5.260520\n",
      "O      -> I-org   -5.304549\n"
     ]
    }
   ],
   "source": [
    "from collections import Counter\n",
    "\n",
    "def print_transitions(trans_features):\n",
    "    for (label_from, label_to), weight in trans_features:\n",
    "        print(\"%-6s -> %-7s %0.6f\" % (label_from, label_to, weight))\n",
    "\n",
    "print(\"Top likely transitions:\")\n",
    "print_transitions(Counter(best_clf.transition_features_).most_common(20))\n",
    "\n",
    "print(\"\\nTop unlikely transitions:\")\n",
    "print_transitions(Counter(best_clf.transition_features_).most_common()[-20:])"
   ]
  },
  {
   "cell_type": "markdown",
   "metadata": {},
   "source": [
    "Results show that algorithm thinks it is highly likely that beginning of an event (B-eve) is followed by a tag inside of an event (I-eve) and such similar things. Also the unlikely transitions are penalized with a negative coefficient"
   ]
  },
  {
   "cell_type": "code",
   "execution_count": 101,
   "metadata": {},
   "outputs": [
    {
     "name": "stdout",
     "output_type": "stream",
     "text": [
      "Top positive:\n",
      "4.952642 B-tim    Word:Wednesday\n",
      "4.952642 B-tim    lemma:Wednesday\n",
      "4.879709 B-tim    Word:Monday\n",
      "4.879709 B-tim    lemma:Monday\n",
      "4.866381 B-tim    lemma:Thursday\n",
      "4.866381 B-tim    Word:Thursday\n",
      "4.818657 B-tim    lemma:Tuesday\n",
      "4.818657 B-tim    Word:Tuesday\n",
      "4.639730 B-tim    lemma:Sunday\n",
      "4.639730 B-tim    Word:Sunday\n",
      "\n",
      "Top negative:\n",
      "-2.037779 O        prev_word:Rio\n",
      "-2.037779 O        prev_lemma:Rio\n",
      "-2.085354 O        Word:end\n",
      "-2.161337 I-per    prev_prev_pos:DT\n",
      "-2.219919 O        lemma:decade\n",
      "-2.285546 B-geo    prev_lemma:recognize\n",
      "-2.769281 I-gpe    prev_pos:JJ\n",
      "-2.821084 B-gpe    lowercase\n",
      "-3.048897 O        Word:day\n",
      "-4.950461 O        POS:NNP\n"
     ]
    }
   ],
   "source": [
    "def print_state_features(state_features):\n",
    "    for (attr, label), weight in state_features:\n",
    "        print(\"%0.6f %-8s %s\" % (weight, label, attr))\n",
    "\n",
    "print(\"Top positive:\")\n",
    "print_state_features(Counter(best_clf.state_features_).most_common(10))\n",
    "\n",
    "print(\"\\nTop negative:\")\n",
    "print_state_features(Counter(best_clf.state_features_).most_common()[-10:])"
   ]
  },
  {
   "cell_type": "markdown",
   "metadata": {},
   "source": [
    "A look at the top positive state features reveal that the algorithm remembers some of the words or lemmas and try to predict them. The algorithm seems to overfit and probably we need to use better features. One solution to this problem is to carry out principal component analysis on the features and then apply CRF on the most important newly generated compound features. "
   ]
  },
  {
   "cell_type": "markdown",
   "metadata": {},
   "source": [
    "## Conclusions:\n",
    "\n",
    "-  Over all performance of the model from `learning curves` shows that we are not data-limited. But, it is seen that 85% of the data are non-entities and hence create noise in the model. I think, an alternative way is to remove all the words that are classified as `stop_words` (~31%) and then train the algorithm on remaining data - this would reduce the noise and also over-all F1-score would be more meaningful. \n",
    "-  As we observed, the CRF algorithm with the generated features seems to overfit the data - can overcome this by doing PCA on the feature set before applying CRF. Significant improvement form the memory_tagger is seen particularly in Recall. \n",
    "-  For better performance, we can go for other perceptron and deep neural networks - publicly available libraries for NER like Spacy and Stanford CoreNLP will also improve the algorithm performance."
   ]
  }
 ],
 "metadata": {
  "kernelspec": {
   "display_name": "Python 2",
   "language": "python",
   "name": "python2"
  },
  "language_info": {
   "codemirror_mode": {
    "name": "ipython",
    "version": 2
   },
   "file_extension": ".py",
   "mimetype": "text/x-python",
   "name": "python",
   "nbconvert_exporter": "python",
   "pygments_lexer": "ipython2",
   "version": "2.7.14"
  }
 },
 "nbformat": 4,
 "nbformat_minor": 2
}
